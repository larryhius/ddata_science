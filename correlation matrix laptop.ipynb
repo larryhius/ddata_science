{
 "cells": [
  {
   "cell_type": "code",
   "execution_count": 1,
   "id": "0f1aa897-eac1-461d-b729-54140f2b3d67",
   "metadata": {},
   "outputs": [],
   "source": [
    "import pandas as pd"
   ]
  },
  {
   "cell_type": "code",
   "execution_count": 13,
   "id": "3079b1ff-540b-4d6e-9909-bb1473996352",
   "metadata": {},
   "outputs": [
    {
     "name": "stdout",
     "output_type": "stream",
     "text": [
      "                    Inches       Ram    Weight  Price_euros  CPU_freq  \\\n",
      "Inches            1.000000  0.241078  0.826638     0.066608  0.305037   \n",
      "Ram               0.241078  1.000000  0.389370     0.740287  0.366254   \n",
      "Weight            0.826638  0.389370  1.000000     0.211883  0.318649   \n",
      "Price_euros       0.066608  0.740287  0.211883     1.000000  0.428847   \n",
      "CPU_freq          0.305037  0.366254  0.318649     0.428847  1.000000   \n",
      "PrimaryStorage    0.264280  0.015365  0.175433    -0.124775  0.056320   \n",
      "SecondaryStorage  0.389067  0.390939  0.481495     0.291207  0.224521   \n",
      "\n",
      "                  PrimaryStorage  SecondaryStorage  \n",
      "Inches                  0.264280          0.389067  \n",
      "Ram                     0.015365          0.390939  \n",
      "Weight                  0.175433          0.481495  \n",
      "Price_euros            -0.124775          0.291207  \n",
      "CPU_freq                0.056320          0.224521  \n",
      "PrimaryStorage          1.000000         -0.244182  \n",
      "SecondaryStorage       -0.244182          1.000000  \n"
     ]
    }
   ],
   "source": [
    "df = pd.read_csv('laptop_prices.csv')\n",
    "\n",
    "\n",
    "# Select relevant numerical columns for correlation\n",
    "numerical_columns = ['Inches', 'Ram', 'Weight', 'Price_euros', 'CPU_freq', 'PrimaryStorage', 'SecondaryStorage']\n",
    "\n",
    "# Create the correlation matrix\n",
    "correlation_matrix = df[numerical_columns].corr()\n",
    "\n",
    "# Display the correlation matrix\n",
    "print(correlation_matrix)"
   ]
  },
  {
   "cell_type": "code",
   "execution_count": null,
   "id": "bfb76570-9a7f-4879-a7b6-adfc9dd9275d",
   "metadata": {},
   "outputs": [],
   "source": []
  }
 ],
 "metadata": {
  "kernelspec": {
   "display_name": "Python 3 (ipykernel)",
   "language": "python",
   "name": "python3"
  },
  "language_info": {
   "codemirror_mode": {
    "name": "ipython",
    "version": 3
   },
   "file_extension": ".py",
   "mimetype": "text/x-python",
   "name": "python",
   "nbconvert_exporter": "python",
   "pygments_lexer": "ipython3",
   "version": "3.10.11"
  }
 },
 "nbformat": 4,
 "nbformat_minor": 5
}
