{
 "cells": [
  {
   "cell_type": "markdown",
   "id": "f178b1c7-26b8-418a-b990-bca34e1a1e37",
   "metadata": {},
   "source": [
    "Accuracy Precision Recall Score"
   ]
  },
  {
   "cell_type": "code",
   "execution_count": 7,
   "id": "14953715-2936-455c-bcf4-21ea3a3e2b9f",
   "metadata": {},
   "outputs": [],
   "source": [
    "import pandas as pd\n",
    "from sklearn.metrics import accuracy_score, precision_score, recall_score"
   ]
  },
  {
   "cell_type": "code",
   "execution_count": 8,
   "id": "521eadb8-9011-4798-9339-de05da94f714",
   "metadata": {},
   "outputs": [],
   "source": [
    "data = pd.read_csv('Data Mahasiswa.csv')\n",
    "\n",
    "data_aktual = data['STATUS KELULUSAN'].tolist()\n",
    "data_prediksi = ['TEPAT', 'TEPAT', 'TEPAT', 'TEPAT', 'TEPAT', \n",
    "                 'TERLAMBAT', 'TERLAMBAT', 'TERLAMBAT', 'TEPAT', \n",
    "                 'TERLAMBAT', 'TERLAMBAT', 'TEPAT', 'TEPAT', \n",
    "                 'TEPAT', 'TERLAMBAT']\n"
   ]
  },
  {
   "cell_type": "code",
   "execution_count": 9,
   "id": "f4c59ae5-705f-4ab3-afd3-c5de485ea27f",
   "metadata": {},
   "outputs": [
    {
     "name": "stdout",
     "output_type": "stream",
     "text": [
      "Akurasi  : 0.93\n",
      "Precision: 0.89\n",
      "Recall   : 1.00\n"
     ]
    }
   ],
   "source": [
    "accuracy = accuracy_score(data_aktual, data_prediksi)\n",
    "precision = precision_score(data_aktual, data_prediksi, pos_label='TEPAT')\n",
    "recall = recall_score(data_aktual, data_prediksi, pos_label='TEPAT')\n",
    "\n",
    "# 6. Tampilkan hasil\n",
    "print(f\"Akurasi  : {accuracy:.2f}\")\n",
    "print(f\"Precision: {precision:.2f}\")\n",
    "print(f\"Recall   : {recall:.2f}\")"
   ]
  }
 ],
 "metadata": {
  "kernelspec": {
   "display_name": "Python 3 (ipykernel)",
   "language": "python",
   "name": "python3"
  },
  "language_info": {
   "codemirror_mode": {
    "name": "ipython",
    "version": 3
   },
   "file_extension": ".py",
   "mimetype": "text/x-python",
   "name": "python",
   "nbconvert_exporter": "python",
   "pygments_lexer": "ipython3",
   "version": "3.10.11"
  }
 },
 "nbformat": 4,
 "nbformat_minor": 5
}
